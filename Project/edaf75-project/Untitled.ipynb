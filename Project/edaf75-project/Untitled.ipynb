{
 "cells": [
  {
   "cell_type": "code",
   "execution_count": 1,
   "id": "c1e844c5",
   "metadata": {},
   "outputs": [],
   "source": [
    "%load_ext sql\n"
   ]
  },
  {
   "cell_type": "code",
   "execution_count": 2,
   "id": "c82f1e7f",
   "metadata": {},
   "outputs": [],
   "source": [
    "%sql sqlite:///krusty-db.sqlite"
   ]
  },
  {
   "cell_type": "code",
   "execution_count": 3,
   "id": "70e68379",
   "metadata": {},
   "outputs": [
    {
     "name": "stdout",
     "output_type": "stream",
     "text": [
      " * sqlite:///krusty-db.sqlite\n",
      "Done.\n"
     ]
    },
    {
     "data": {
      "text/html": [
       "<table>\n",
       "    <thead>\n",
       "        <tr>\n",
       "            <th>pallet_nbr</th>\n",
       "            <th>date_produced</th>\n",
       "            <th>order_id</th>\n",
       "            <th>c_name</th>\n",
       "            <th>blocked</th>\n",
       "        </tr>\n",
       "    </thead>\n",
       "    <tbody>\n",
       "    </tbody>\n",
       "</table>"
      ],
      "text/plain": [
       "[]"
      ]
     },
     "execution_count": 3,
     "metadata": {},
     "output_type": "execute_result"
    }
   ],
   "source": [
    "%%sql\n",
    "SELECT *\n",
    "FROM pallets"
   ]
  },
  {
   "cell_type": "code",
   "execution_count": 4,
   "id": "0db4b040",
   "metadata": {},
   "outputs": [
    {
     "name": "stdout",
     "output_type": "stream",
     "text": [
      " * sqlite:///krusty-db.sqlite\n",
      "Done.\n"
     ]
    },
    {
     "data": {
      "text/html": [
       "<table>\n",
       "    <thead>\n",
       "        <tr>\n",
       "            <th>ingredient</th>\n",
       "            <th>unit</th>\n",
       "            <th>store_quantity</th>\n",
       "            <th>store_date</th>\n",
       "            <th>store_last_quantity</th>\n",
       "        </tr>\n",
       "    </thead>\n",
       "    <tbody>\n",
       "        <tr>\n",
       "            <td>Bread crumbs</td>\n",
       "            <td>g</td>\n",
       "            <td>150000</td>\n",
       "            <td>2021-03-19 10:30:00</td>\n",
       "            <td>150000</td>\n",
       "        </tr>\n",
       "        <tr>\n",
       "            <td>Butter</td>\n",
       "            <td>g</td>\n",
       "            <td>200000</td>\n",
       "            <td>2021-03-19 10:30:00</td>\n",
       "            <td>200000</td>\n",
       "        </tr>\n",
       "        <tr>\n",
       "            <td>Chocolate</td>\n",
       "            <td>g</td>\n",
       "            <td>300000</td>\n",
       "            <td>2021-03-19 10:30:00</td>\n",
       "            <td>300000</td>\n",
       "        </tr>\n",
       "        <tr>\n",
       "            <td>Chopped almonds</td>\n",
       "            <td>g</td>\n",
       "            <td>250000</td>\n",
       "            <td>2021-03-19 10:30:00</td>\n",
       "            <td>250000</td>\n",
       "        </tr>\n",
       "        <tr>\n",
       "            <td>Cinnamon</td>\n",
       "            <td>g</td>\n",
       "            <td>40000</td>\n",
       "            <td>2021-03-19 10:30:00</td>\n",
       "            <td>40000</td>\n",
       "        </tr>\n",
       "        <tr>\n",
       "            <td>Egg whites</td>\n",
       "            <td>ml</td>\n",
       "            <td>350000</td>\n",
       "            <td>2021-03-19 10:30:00</td>\n",
       "            <td>350000</td>\n",
       "        </tr>\n",
       "        <tr>\n",
       "            <td>Eggs</td>\n",
       "            <td>g</td>\n",
       "            <td>300000</td>\n",
       "            <td>2021-03-19 10:30:00</td>\n",
       "            <td>300000</td>\n",
       "        </tr>\n",
       "        <tr>\n",
       "            <td>Fine-ground nuts</td>\n",
       "            <td>g</td>\n",
       "            <td>200000</td>\n",
       "            <td>2021-03-19 10:30:00</td>\n",
       "            <td>200000</td>\n",
       "        </tr>\n",
       "        <tr>\n",
       "            <td>Flour</td>\n",
       "            <td>g</td>\n",
       "            <td>500000</td>\n",
       "            <td>2021-03-19 10:30:00</td>\n",
       "            <td>500000</td>\n",
       "        </tr>\n",
       "        <tr>\n",
       "            <td>Ground roasted nuts</td>\n",
       "            <td>g</td>\n",
       "            <td>200000</td>\n",
       "            <td>2021-03-19 10:30:00</td>\n",
       "            <td>200000</td>\n",
       "        </tr>\n",
       "        <tr>\n",
       "            <td>Icing sugar</td>\n",
       "            <td>g</td>\n",
       "            <td>100000</td>\n",
       "            <td>2021-03-19 10:30:00</td>\n",
       "            <td>100000</td>\n",
       "        </tr>\n",
       "        <tr>\n",
       "            <td>Marzipan</td>\n",
       "            <td>g</td>\n",
       "            <td>100000</td>\n",
       "            <td>2021-03-19 10:30:00</td>\n",
       "            <td>100000</td>\n",
       "        </tr>\n",
       "        <tr>\n",
       "            <td>Potato starch</td>\n",
       "            <td>g</td>\n",
       "            <td>100000</td>\n",
       "            <td>2021-03-19 10:30:00</td>\n",
       "            <td>100000</td>\n",
       "        </tr>\n",
       "        <tr>\n",
       "            <td>Roasted chopped nuts</td>\n",
       "            <td>g</td>\n",
       "            <td>200000</td>\n",
       "            <td>2021-03-19 10:30:00</td>\n",
       "            <td>200000</td>\n",
       "        </tr>\n",
       "        <tr>\n",
       "            <td>Sodium bicarbonate</td>\n",
       "            <td>g</td>\n",
       "            <td>25000</td>\n",
       "            <td>2021-03-19 10:30:00</td>\n",
       "            <td>25000</td>\n",
       "        </tr>\n",
       "        <tr>\n",
       "            <td>Sugar</td>\n",
       "            <td>g</td>\n",
       "            <td>500000</td>\n",
       "            <td>2021-03-19 10:30:00</td>\n",
       "            <td>500000</td>\n",
       "        </tr>\n",
       "        <tr>\n",
       "            <td>Vanilla</td>\n",
       "            <td>g</td>\n",
       "            <td>100000</td>\n",
       "            <td>2021-03-19 10:30:00</td>\n",
       "            <td>100000</td>\n",
       "        </tr>\n",
       "        <tr>\n",
       "            <td>Vanilla sugar</td>\n",
       "            <td>g</td>\n",
       "            <td>40000</td>\n",
       "            <td>2021-03-19 10:30:00</td>\n",
       "            <td>40000</td>\n",
       "        </tr>\n",
       "        <tr>\n",
       "            <td>Wheat flour</td>\n",
       "            <td>g</td>\n",
       "            <td>600000</td>\n",
       "            <td>2021-03-19 10:30:00</td>\n",
       "            <td>600000</td>\n",
       "        </tr>\n",
       "    </tbody>\n",
       "</table>"
      ],
      "text/plain": [
       "[('Bread crumbs', 'g', 150000, '2021-03-19 10:30:00', 150000),\n",
       " ('Butter', 'g', 200000, '2021-03-19 10:30:00', 200000),\n",
       " ('Chocolate', 'g', 300000, '2021-03-19 10:30:00', 300000),\n",
       " ('Chopped almonds', 'g', 250000, '2021-03-19 10:30:00', 250000),\n",
       " ('Cinnamon', 'g', 40000, '2021-03-19 10:30:00', 40000),\n",
       " ('Egg whites', 'ml', 350000, '2021-03-19 10:30:00', 350000),\n",
       " ('Eggs', 'g', 300000, '2021-03-19 10:30:00', 300000),\n",
       " ('Fine-ground nuts', 'g', 200000, '2021-03-19 10:30:00', 200000),\n",
       " ('Flour', 'g', 500000, '2021-03-19 10:30:00', 500000),\n",
       " ('Ground roasted nuts', 'g', 200000, '2021-03-19 10:30:00', 200000),\n",
       " ('Icing sugar', 'g', 100000, '2021-03-19 10:30:00', 100000),\n",
       " ('Marzipan', 'g', 100000, '2021-03-19 10:30:00', 100000),\n",
       " ('Potato starch', 'g', 100000, '2021-03-19 10:30:00', 100000),\n",
       " ('Roasted chopped nuts', 'g', 200000, '2021-03-19 10:30:00', 200000),\n",
       " ('Sodium bicarbonate', 'g', 25000, '2021-03-19 10:30:00', 25000),\n",
       " ('Sugar', 'g', 500000, '2021-03-19 10:30:00', 500000),\n",
       " ('Vanilla', 'g', 100000, '2021-03-19 10:30:00', 100000),\n",
       " ('Vanilla sugar', 'g', 40000, '2021-03-19 10:30:00', 40000),\n",
       " ('Wheat flour', 'g', 600000, '2021-03-19 10:30:00', 600000)]"
      ]
     },
     "execution_count": 4,
     "metadata": {},
     "output_type": "execute_result"
    }
   ],
   "source": [
    "\n",
    "%%sql\n",
    "SELECT * \n",
    "FROM storages\n",
    "ORDER BY ingredient"
   ]
  },
  {
   "cell_type": "code",
   "execution_count": 6,
   "id": "db9acad1",
   "metadata": {},
   "outputs": [
    {
     "name": "stdout",
     "output_type": "stream",
     "text": [
      " * sqlite:///krusty-db.sqlite\n",
      "Done.\n"
     ]
    },
    {
     "data": {
      "text/html": [
       "<table>\n",
       "    <tr>\n",
       "        <th>pallet_nbr</th>\n",
       "        <th>blocked</th>\n",
       "    </tr>\n",
       "</table>"
      ],
      "text/plain": [
       "[]"
      ]
     },
     "execution_count": 6,
     "metadata": {},
     "output_type": "execute_result"
    }
   ],
   "source": [
    "%%sql\n",
    "SELECT * \n",
    "FROM blocked"
   ]
  },
  {
   "cell_type": "code",
   "execution_count": 8,
   "id": "ecbbb653",
   "metadata": {},
   "outputs": [
    {
     "name": "stdout",
     "output_type": "stream",
     "text": [
      " * sqlite:///krusty-db.sqlite\n",
      "Done.\n"
     ]
    },
    {
     "data": {
      "text/html": [
       "<table>\n",
       "    <thead>\n",
       "        <tr>\n",
       "            <th>min(store_quantity-quantity)</th>\n",
       "            <th>ingredient</th>\n",
       "        </tr>\n",
       "    </thead>\n",
       "    <tbody>\n",
       "        <tr>\n",
       "            <td>14990.0</td>\n",
       "            <td>Cinnamon</td>\n",
       "        </tr>\n",
       "    </tbody>\n",
       "</table>"
      ],
      "text/plain": [
       "[(14990.0, 'Cinnamon')]"
      ]
     },
     "execution_count": 8,
     "metadata": {},
     "output_type": "execute_result"
    }
   ],
   "source": [
    "%%sql\n",
    "SELECT min(store_quantity-quantity), ingredient\n",
    "FROM storages\n",
    "JOIN ingredients USING (ingredient)\n",
    "WHERE c_name = 'Almond delight'"
   ]
  },
  {
   "cell_type": "code",
   "execution_count": 43,
   "id": "8daf9c16",
   "metadata": {},
   "outputs": [
    {
     "name": "stdout",
     "output_type": "stream",
     "text": [
      " * sqlite:///krusty-db.sqlite\n",
      "Done.\n"
     ]
    },
    {
     "data": {
      "text/html": [
       "<table>\n",
       "    <thead>\n",
       "        <tr>\n",
       "            <th>pallet_nbr</th>\n",
       "            <th>date_produced</th>\n",
       "            <th>blocked</th>\n",
       "        </tr>\n",
       "    </thead>\n",
       "    <tbody>\n",
       "        <tr>\n",
       "            <td>078559315ec52c8e2e7a254492bf17b7</td>\n",
       "            <td>2023-04-07 13:50:39</td>\n",
       "            <td>0</td>\n",
       "        </tr>\n",
       "        <tr>\n",
       "            <td>026ca57ed396799f9ae98c52aa0cc192</td>\n",
       "            <td>2023-04-07 13:50:39</td>\n",
       "            <td>0</td>\n",
       "        </tr>\n",
       "        <tr>\n",
       "            <td>dcd98d2a73f9c878fa2bfeb9665fa1a0</td>\n",
       "            <td>2023-04-07 13:50:39</td>\n",
       "            <td>0</td>\n",
       "        </tr>\n",
       "        <tr>\n",
       "            <td>f012d1b27e7c01204da1b051361e8000</td>\n",
       "            <td>2023-04-07 13:50:39</td>\n",
       "            <td>0</td>\n",
       "        </tr>\n",
       "        <tr>\n",
       "            <td>a0a5ffa782990d19bac2aca7dd9d0426</td>\n",
       "            <td>2023-04-07 13:50:39</td>\n",
       "            <td>0</td>\n",
       "        </tr>\n",
       "        <tr>\n",
       "            <td>2a850773f752b66f06b45932e03dc76b</td>\n",
       "            <td>2023-04-07 13:50:39</td>\n",
       "            <td>0</td>\n",
       "        </tr>\n",
       "        <tr>\n",
       "            <td>6f6cb7b8200aeaecfb464931038826a1</td>\n",
       "            <td>2023-04-07 13:50:39</td>\n",
       "            <td>0</td>\n",
       "        </tr>\n",
       "        <tr>\n",
       "            <td>5cf494f449d61901594a504312aadce6</td>\n",
       "            <td>2023-04-07 13:50:39</td>\n",
       "            <td>0</td>\n",
       "        </tr>\n",
       "        <tr>\n",
       "            <td>824f08a267c3b57ae2f41590e29dcacd</td>\n",
       "            <td>2023-04-07 13:50:39</td>\n",
       "            <td>0</td>\n",
       "        </tr>\n",
       "        <tr>\n",
       "            <td>c28f927f603b6069a55885ca80be128d</td>\n",
       "            <td>2023-04-07 13:50:39</td>\n",
       "            <td>0</td>\n",
       "        </tr>\n",
       "        <tr>\n",
       "            <td>4a3fd424b6a5343561a296cd3ed5d644</td>\n",
       "            <td>2023-04-07 13:50:39</td>\n",
       "            <td>0</td>\n",
       "        </tr>\n",
       "        <tr>\n",
       "            <td>03f363840c8591f3b9b8d6a4d2119a50</td>\n",
       "            <td>2023-04-07 13:50:39</td>\n",
       "            <td>0</td>\n",
       "        </tr>\n",
       "        <tr>\n",
       "            <td>646ebf571adc180bd804b46bbe47b9ce</td>\n",
       "            <td>2023-04-07 13:50:39</td>\n",
       "            <td>0</td>\n",
       "        </tr>\n",
       "    </tbody>\n",
       "</table>"
      ],
      "text/plain": [
       "[('078559315ec52c8e2e7a254492bf17b7', '2023-04-07 13:50:39', 0),\n",
       " ('026ca57ed396799f9ae98c52aa0cc192', '2023-04-07 13:50:39', 0),\n",
       " ('dcd98d2a73f9c878fa2bfeb9665fa1a0', '2023-04-07 13:50:39', 0),\n",
       " ('f012d1b27e7c01204da1b051361e8000', '2023-04-07 13:50:39', 0),\n",
       " ('a0a5ffa782990d19bac2aca7dd9d0426', '2023-04-07 13:50:39', 0),\n",
       " ('2a850773f752b66f06b45932e03dc76b', '2023-04-07 13:50:39', 0),\n",
       " ('6f6cb7b8200aeaecfb464931038826a1', '2023-04-07 13:50:39', 0),\n",
       " ('5cf494f449d61901594a504312aadce6', '2023-04-07 13:50:39', 0),\n",
       " ('824f08a267c3b57ae2f41590e29dcacd', '2023-04-07 13:50:39', 0),\n",
       " ('c28f927f603b6069a55885ca80be128d', '2023-04-07 13:50:39', 0),\n",
       " ('4a3fd424b6a5343561a296cd3ed5d644', '2023-04-07 13:50:39', 0),\n",
       " ('03f363840c8591f3b9b8d6a4d2119a50', '2023-04-07 13:50:39', 0),\n",
       " ('646ebf571adc180bd804b46bbe47b9ce', '2023-04-07 13:50:39', 0)]"
      ]
     },
     "execution_count": 43,
     "metadata": {},
     "output_type": "execute_result"
    }
   ],
   "source": [
    "%%sql\n",
    "SELECT pallet_nbr, date_produced, COALESCE(true_state, 0) as \"blocked\"\n",
    "FROM pallets\n",
    "LEFT JOIN blocked USING (pallet_nbr)"
   ]
  },
  {
   "cell_type": "code",
   "execution_count": 7,
   "id": "3d880de6",
   "metadata": {},
   "outputs": [
    {
     "name": "stdout",
     "output_type": "stream",
     "text": [
      " * sqlite:///krusty-db.sqlite\n",
      "19 rows affected.\n"
     ]
    },
    {
     "data": {
      "text/plain": [
       "[]"
      ]
     },
     "execution_count": 7,
     "metadata": {},
     "output_type": "execute_result"
    }
   ],
   "source": [
    "%%sql\n",
    "UPDATE storages\n",
    "SET store_quantity = 0"
   ]
  },
  {
   "cell_type": "code",
   "execution_count": 9,
   "id": "2949af90",
   "metadata": {},
   "outputs": [
    {
     "name": "stdout",
     "output_type": "stream",
     "text": [
      " * sqlite:///krusty-db.sqlite\n",
      "Done.\n"
     ]
    },
    {
     "data": {
      "text/html": [
       "<table>\n",
       "    <thead>\n",
       "        <tr>\n",
       "            <th>pallet_nbr</th>\n",
       "            <th>date_produced</th>\n",
       "            <th>order_id</th>\n",
       "            <th>c_name</th>\n",
       "        </tr>\n",
       "    </thead>\n",
       "    <tbody>\n",
       "        <tr>\n",
       "            <td>8342eb4dc351b0cfe3deb7473c50094e</td>\n",
       "            <td>2023-04-12 09:21:14</td>\n",
       "            <td>None</td>\n",
       "            <td>Tango</td>\n",
       "        </tr>\n",
       "    </tbody>\n",
       "</table>"
      ],
      "text/plain": [
       "[('8342eb4dc351b0cfe3deb7473c50094e', '2023-04-12 09:21:14', None, 'Tango')]"
      ]
     },
     "execution_count": 9,
     "metadata": {},
     "output_type": "execute_result"
    }
   ],
   "source": [
    "%%sql\n",
    "SELECT * FROM pallets LIMIT 1"
   ]
  },
  {
   "cell_type": "code",
   "execution_count": 10,
   "id": "f7ac5dc7",
   "metadata": {},
   "outputs": [
    {
     "name": "stdout",
     "output_type": "stream",
     "text": [
      " * sqlite:///krusty-db.sqlite\n",
      "1 rows affected.\n"
     ]
    },
    {
     "data": {
      "text/plain": [
       "[]"
      ]
     },
     "execution_count": 10,
     "metadata": {},
     "output_type": "execute_result"
    }
   ],
   "source": [
    "%%sql\n",
    "INSERT INTO pallets VALUES('8342eb4dc351b0cfe3deb7473c50497f', '2023-04-12 09:21:14', NULL, 'Tango', 0)"
   ]
  },
  {
   "cell_type": "code",
   "execution_count": 20,
   "id": "d6b3b94e",
   "metadata": {},
   "outputs": [
    {
     "name": "stdout",
     "output_type": "stream",
     "text": [
      " * sqlite:///krusty-db.sqlite\n",
      "(sqlite3.IntegrityError) negative value after insert\n",
      "[SQL: UPDATE storages\n",
      "SET store_quantity = '-1000000']\n",
      "(Background on this error at: https://sqlalche.me/e/20/gkpj)\n"
     ]
    }
   ],
   "source": [
    "%%sql\n",
    "UPDATE storages\n",
    "SET store_quantity = '-1000000'"
   ]
  },
  {
   "cell_type": "code",
   "execution_count": 11,
   "id": "1a8b8eff",
   "metadata": {},
   "outputs": [
    {
     "name": "stdout",
     "output_type": "stream",
     "text": [
      " * sqlite:///krusty-db.sqlite\n",
      "Done.\n"
     ]
    },
    {
     "data": {
      "text/html": [
       "<table>\n",
       "    <thead>\n",
       "        <tr>\n",
       "            <th>c_name</th>\n",
       "            <th>nbr</th>\n",
       "        </tr>\n",
       "    </thead>\n",
       "    <tbody>\n",
       "        <tr>\n",
       "            <td>Tango</td>\n",
       "            <td>2</td>\n",
       "        </tr>\n",
       "        <tr>\n",
       "            <td>Almond delight</td>\n",
       "            <td>0</td>\n",
       "        </tr>\n",
       "    </tbody>\n",
       "</table>"
      ],
      "text/plain": [
       "[('Tango', 2), ('Almond delight', 0)]"
      ]
     },
     "execution_count": 11,
     "metadata": {},
     "output_type": "execute_result"
    }
   ],
   "source": [
    "%%sql\n",
    "WITH pallet_count(c_name, cnt) AS(\n",
    "SELECT      c_name, count() as cnt\n",
    "FROM        pallets\n",
    "WHERE       blocked = 0\n",
    "GROUP BY    c_name  \n",
    ")\n",
    "SELECT      cookies.c_name, coalesce(cnt, 0) as nbr\n",
    "FROM        cookies \n",
    "LEFT JOIN   pallet_count on cookies.c_name = pallet_count.c_name"
   ]
  },
  {
   "cell_type": "code",
   "execution_count": null,
   "id": "8a0b47ef",
   "metadata": {},
   "outputs": [],
   "source": []
  }
 ],
 "metadata": {
  "kernelspec": {
   "display_name": "Python 3 (ipykernel)",
   "language": "python",
   "name": "python3"
  },
  "language_info": {
   "codemirror_mode": {
    "name": "ipython",
    "version": 3
   },
   "file_extension": ".py",
   "mimetype": "text/x-python",
   "name": "python",
   "nbconvert_exporter": "python",
   "pygments_lexer": "ipython3",
   "version": "3.9.13"
  }
 },
 "nbformat": 4,
 "nbformat_minor": 5
}
